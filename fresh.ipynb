{
 "cells": [
  {
   "cell_type": "markdown",
   "metadata": {
    "id": "ZMHYde0EvIz2"
   },
   "source": [
    "## Классификация фруктиков и овощей"
   ]
  },
  {
   "cell_type": "code",
   "execution_count": 1,
   "metadata": {},
   "outputs": [],
   "source": [
    "import os\n",
    "os.environ[\"OPENBLAS_NUM_THREADS\"] = \"1\"\n",
    "os.environ['CUDA_VISIBLE_DEVICES'] = '1'"
   ]
  },
  {
   "cell_type": "code",
   "execution_count": 32,
   "metadata": {
    "id": "PsjMUo8qvIz4"
   },
   "outputs": [],
   "source": [
    "import numpy as np\n",
    "import torchvision.transforms as transforms\n",
    "from torchvision import datasets, models\n",
    "from torch.utils.data import Dataset\n",
    "import torch\n",
    "%matplotlib inline \n",
    "import matplotlib.pyplot as plt\n",
    "from PIL import Image\n",
    "from torch.utils.data import random_split\n",
    "from torch.utils.data import DataLoader\n",
    "from tqdm.notebook import tqdm\n",
    "from enum import Enum\n",
    " \n",
    "import torch.nn as nn\n",
    "import torch.nn.functional as F \n",
    "import os\n",
    "\n",
    "import torchvision.transforms.functional as FT\n",
    "import random\n",
    "from efficientnet_pytorch import EfficientNet\n",
    " \n",
    "random_seed = 42\n",
    " \n",
    "# Проверяем, доступны ли GPU\n",
    "device = 'cuda' if torch.cuda.is_available() else 'cpu'"
   ]
  },
  {
   "cell_type": "code",
   "execution_count": 3,
   "metadata": {
    "colab": {
     "base_uri": "https://localhost:8080/"
    },
    "id": "nrM-Xjw8vIz5",
    "outputId": "7d050282-8f51-4443-8227-d24618504985"
   },
   "outputs": [
    {
     "name": "stdout",
     "output_type": "stream",
     "text": [
      "['4080_grapefruit_', '8906_chilli_-_green', '4069_capsicum_-_red', '8915_onion_-_spring', '9442_chili_yellow', '4079_grape_-_red', '8946_watermelon', '4086_orange_', '4055_croissant_-_butter', '4056_croissant_-_choc_hazelnut', '8922_tomato_-_roma', '4099_mango_-_green', '4064_banana', '4058_doughnut_(sugar)', '4084_onion_-_eschalot', '4071_carrot_-_orange', '4070_capsicum_-_yellow', '4093_tomato_-_cocktail_(large)', '4097_lime', '4059_pretzel', '4060_apple_-_granny_smith', '4083_onion_-_red', '4078_grape_-_green', '4094_zucchini', '4066_broccoli', '4061_apple_-_pink_lady', '8919_kiwifruit_-_gold', '4072_cauliflower', '4082_nectarine_-_yellow', '4050_almond_', '4075_eggplant', '4068_capsicum_-_orange', '4074_cucumber', '4054_walnut', '4096_lemon', '4085_onion_-_white', '4088_potato_', '4076_garlic', '8904_chilli_-_red', '4089_potato_-_sweet', '4077_ginger', '4095_leek', '4081_kiwifruit_-_green', '4087_pineapple', '4092_tomato_-_cherry_(small)', '4090_raspberry', '4067_capsicum_-_green', '4063_avocado_', '4051_cashew_', '4052_hazelnut_', '4073_coconut', '4053_peanut_', '4062_apple_-_royal_gala', '4098_mandarin', '9463_blueberry', '4091_strawberry', '4057_doughnut_(chocolate)', '4157_other-classifier']\n"
     ]
    }
   ],
   "source": [
    "data_train_dir = './603f8fc619d9540007cf6d88/train'\n",
    "print(os.listdir(data_train_dir))"
   ]
  },
  {
   "cell_type": "code",
   "execution_count": 4,
   "metadata": {},
   "outputs": [
    {
     "name": "stdout",
     "output_type": "stream",
     "text": [
      "['4080_grapefruit_', '8906_chilli_-_green', '4069_capsicum_-_red', '8915_onion_-_spring', '9442_chili_yellow', '4079_grape_-_red', '8946_watermelon', '4086_orange_', '4055_croissant_-_butter', '4056_croissant_-_choc_hazelnut', '8922_tomato_-_roma', '4099_mango_-_green', '4064_banana', '4058_doughnut_(sugar)', '4084_onion_-_eschalot', '4071_carrot_-_orange', '4070_capsicum_-_yellow', '4093_tomato_-_cocktail_(large)', '4097_lime', '4059_pretzel', '4060_apple_-_granny_smith', '4083_onion_-_red', '4078_grape_-_green', '4094_zucchini', '4066_broccoli', '4061_apple_-_pink_lady', '8919_kiwifruit_-_gold', '4072_cauliflower', '4082_nectarine_-_yellow', '4050_almond_', '4075_eggplant', '4068_capsicum_-_orange', '4074_cucumber', '4054_walnut', '4096_lemon', '4085_onion_-_white', '4088_potato_', '4076_garlic', '8904_chilli_-_red', '4089_potato_-_sweet', '4077_ginger', '4095_leek', '4081_kiwifruit_-_green', '4087_pineapple', '4092_tomato_-_cherry_(small)', '4090_raspberry', '4067_capsicum_-_green', '4063_avocado_', '4051_cashew_', '4052_hazelnut_', '4073_coconut', '4053_peanut_', '4062_apple_-_royal_gala', '4098_mandarin', '9463_blueberry', '4091_strawberry', '4057_doughnut_(chocolate)']\n"
     ]
    }
   ],
   "source": [
    "data_test_dir = './603f8fc619d9540007cf6d88/test'\n",
    "print(os.listdir(data_test_dir))"
   ]
  },
  {
   "cell_type": "code",
   "execution_count": 5,
   "metadata": {},
   "outputs": [],
   "source": [
    "def get_cor_name(cur_class):\n",
    "    cor_name = cur_class[5:]\n",
    "    cor_name = cor_name[:-1] if cor_name[-1] == \"_\" else cor_name\n",
    "    cor_name = cor_name.replace('-_', '')\n",
    "    cor_name = cor_name.replace('(', '')\n",
    "    cor_name = cor_name.replace(')', '')\n",
    "    return cor_name"
   ]
  },
  {
   "cell_type": "markdown",
   "metadata": {
    "id": "p8ODBwrNvIz5"
   },
   "source": [
    "Переименуем файлы так, чтобы они содержали названия соответствующих классов:"
   ]
  },
  {
   "cell_type": "code",
   "execution_count": 6,
   "metadata": {
    "id": "UlVeCQZSvIz6"
   },
   "outputs": [],
   "source": [
    "def rename_files(data_dir):\n",
    "    classes = os.listdir(data_dir)\n",
    "    for cur_class in classes:\n",
    "        cor_name = get_cor_name(cur_class)\n",
    "        counter = 0\n",
    "        for file in os.listdir(data_dir + '/' + cur_class): \n",
    "            if file.endswith('jpeg'):\n",
    "                os.rename((data_dir + '/' + cur_class + '/' + file),(data_dir + '/' + cur_class + '/' + cor_name + \"_\" + str(counter)+\".jpeg\"))\n",
    "                counter += 1"
   ]
  },
  {
   "cell_type": "code",
   "execution_count": 7,
   "metadata": {
    "id": "kWUwD8KVvIz6"
   },
   "outputs": [],
   "source": [
    "# Раскомментить, если надо переименовать файлы\n",
    "#rename_files(data_train_dir)\n",
    "#rename_files(data_test_dir)"
   ]
  },
  {
   "cell_type": "code",
   "execution_count": 8,
   "metadata": {},
   "outputs": [],
   "source": [
    "class Config(Enum):\n",
    "    NEW_IMG_COUNT = 5\n",
    "    \n",
    "    BRIGHTNESS_RANDOM_LEFT = 0.5\n",
    "    BRIGHTNESS_RANDOM_RIGHT =  1.5\n",
    "    \n",
    "    CONTRAST_RANDOM_LEFT = 0.5\n",
    "    CONTRAST_RANDOM_RIGHT =  1.5\n",
    "    \n",
    "    SATURATION_RANDOM_LEFT = 0.5\n",
    "    SATURATION_RANDOM_RIGHT =  1.5\n",
    "    \n",
    "    HUE_RANDOM_LEFT = -18\n",
    "    HUE_RANDOM_RIGHT =  18"
   ]
  },
  {
   "cell_type": "code",
   "execution_count": 9,
   "metadata": {},
   "outputs": [],
   "source": [
    "def get_new_random_image(image):\n",
    "    new_image = image\n",
    "    \n",
    "    # Рандомно отразим / не отразим картинку \n",
    "    random_val = random.randint(0, 1)\n",
    "    if random_val:\n",
    "        new_image = FT.hflip(new_image)\n",
    "        \n",
    "    # Рандомно изменим / не изменим яркость \n",
    "    random_val = random.randint(0, 1)\n",
    "    if random_val:\n",
    "        new_image = FT.adjust_brightness(new_image, \n",
    "                                         random.uniform(Config.BRIGHTNESS_RANDOM_LEFT.value, Config.BRIGHTNESS_RANDOM_RIGHT.value))\n",
    "        \n",
    "    # Рандомно изменим / не изменим контрастность \n",
    "    random_val = random.randint(0, 1)\n",
    "    if random_val:\n",
    "        new_image = FT.adjust_contrast(new_image,\n",
    "                                       random.uniform(Config.CONTRAST_RANDOM_LEFT.value, Config.CONTRAST_RANDOM_RIGHT.value))\n",
    "        \n",
    "    # Рандомно изменим / не изменим насыщенность \n",
    "    random_val = random.randint(0, 1)\n",
    "    if random_val:\n",
    "        new_image = FT.adjust_saturation(new_image, \n",
    "                                         random.uniform(Config.SATURATION_RANDOM_LEFT.value, Config.SATURATION_RANDOM_RIGHT.value))\n",
    "        \n",
    "    # Рандомно изменим / не изменим оттенки\n",
    "    random_val = random.randint(0, 1)\n",
    "    if random_val:\n",
    "        new_image = FT.adjust_hue(new_image, \n",
    "                                  random.uniform(Config.HUE_RANDOM_LEFT.value / 255., Config.HUE_RANDOM_RIGHT.value / 255.))\n",
    "    \n",
    "    return new_image"
   ]
  },
  {
   "cell_type": "code",
   "execution_count": 10,
   "metadata": {},
   "outputs": [],
   "source": [
    "def get_aug(data_dir):\n",
    "    random.seed(42)\n",
    "    classes = os.listdir(data_dir)\n",
    "    for cur_class in classes:\n",
    "        for file in os.listdir(data_dir + '/' + cur_class):\n",
    "            if file.endswith('jpeg'):\n",
    "                img = Image.open(data_dir + '/' + cur_class + '/' + file).convert('RGB')\n",
    "            \n",
    "                for i in range(Config.NEW_IMG_COUNT.value):\n",
    "                    new_image = get_new_random_image(img)\n",
    "                    if new_image != img:\n",
    "                        new_image.save(data_dir + '/' + cur_class + '/' + os.path.splitext(file)[0] + '_' + str(i) + '.jpeg')"
   ]
  },
  {
   "cell_type": "code",
   "execution_count": 11,
   "metadata": {},
   "outputs": [],
   "source": [
    "#get_aug(data_train_dir)"
   ]
  },
  {
   "cell_type": "code",
   "execution_count": 12,
   "metadata": {
    "id": "c_jTzAYgvIz6"
   },
   "outputs": [],
   "source": [
    "stats = ([0.5, 0.5, 0.5], [0.5, 0.5, 0.5])\n",
    "\n",
    "train_transforms = transforms.Compose([\n",
    "        transforms.ToTensor(),\n",
    "        transforms.Resize((224, 224)),\n",
    "        transforms.RandomHorizontalFlip(),\n",
    "    ])\n",
    "\n",
    "test_transforms = transforms.Compose([\n",
    "        transforms.ToTensor(),\n",
    "        transforms.Resize((224, 224)),\n",
    "        transforms.RandomHorizontalFlip(),\n",
    "    ])"
   ]
  },
  {
   "cell_type": "code",
   "execution_count": 13,
   "metadata": {
    "id": "p9TKXC-SvIz6"
   },
   "outputs": [],
   "source": [
    "class FreshDataset(Dataset):\n",
    "    def __init__(self, data_dir, transform):\n",
    "        super().__init__()\n",
    "        self.root_dir = data_dir\n",
    "        self.files = []\n",
    "        self.classes = []\n",
    "        \n",
    "        for cur_class in os.listdir(data_dir):\n",
    "            cor_name = get_cor_name(cur_class)\n",
    "            self.classes.append(cor_name)\n",
    "                \n",
    "        for cur_class in os.listdir(data_dir):\n",
    "            for file in os.listdir(data_dir + '/' + cur_class):\n",
    "                if file.endswith('jpeg'):\n",
    "                    self.files.append(data_dir + '/' + cur_class + '/' + file)\n",
    "        self.transform = transform\n",
    "    \n",
    "    def __len__(self):\n",
    "        return len(self.files)\n",
    "\n",
    "    def __getitem__(self, i):\n",
    "        f = open(self.files[i], 'rb')\n",
    "        img = self.transform(Image.open(f).convert('RGB'))\n",
    "        cur_str = self.files[i].split('/')[-1]\n",
    "        cur_str = cur_str[: cur_str.rfind(\".\")]\n",
    "        while cur_str[-1].isnumeric():\n",
    "            cur_str = cur_str[:cur_str.rfind(\"_\")]\n",
    "        return img, self.classes.index(cur_str)"
   ]
  },
  {
   "cell_type": "code",
   "execution_count": 14,
   "metadata": {
    "id": "am5dWdDHvIz7"
   },
   "outputs": [],
   "source": [
    "train_dataset = FreshDataset(data_train_dir, transform=train_transforms)\n",
    "test_dataset = FreshDataset(data_test_dir, transform=test_transforms)"
   ]
  },
  {
   "cell_type": "code",
   "execution_count": 15,
   "metadata": {
    "id": "y9kjosNwvIz7"
   },
   "outputs": [],
   "source": [
    "def show_image(tensor):\n",
    "    plt.imshow((tensor).permute((1, 2, 0)))"
   ]
  },
  {
   "cell_type": "code",
   "execution_count": 16,
   "metadata": {
    "colab": {
     "base_uri": "https://localhost:8080/",
     "height": 268
    },
    "id": "wYbMYca_vIz7",
    "outputId": "ee8af951-09ba-4861-95be-8bac5f02a6d5"
   },
   "outputs": [
    {
     "data": {
      "image/png": "[encoded data removed]",
      "text/plain": [
       "<Figure size 432x288 with 1 Axes>"
      ]
     },
     "metadata": {
      "needs_background": "light"
     },
     "output_type": "display_data"
    }
   ],
   "source": [
    "show_image(train_dataset[888][0])"
   ]
  },
  {
   "cell_type": "code",
   "execution_count": 17,
   "metadata": {
    "colab": {
     "base_uri": "https://localhost:8080/",
     "height": 268
    },
    "id": "r0osOGqGvIz8",
    "outputId": "88fcb2b2-c5ae-4496-c8c8-a56970a2d385"
   },
   "outputs": [
    {
     "data": {
      "image/png": "[encoded data removed]",
      "text/plain": [
       "<Figure size 432x288 with 1 Axes>"
      ]
     },
     "metadata": {
      "needs_background": "light"
     },
     "output_type": "display_data"
    }
   ],
   "source": [
    "show_image(train_dataset[666][0])"
   ]
  },
  {
   "cell_type": "code",
   "execution_count": 18,
   "metadata": {
    "id": "OA3kVcSRvIz8"
   },
   "outputs": [],
   "source": [
    "train = DataLoader(train_dataset, batch_size = 100, shuffle=True, num_workers=2)\n",
    "test = DataLoader(test_dataset, batch_size = 100, shuffle=False, num_workers=2)"
   ]
  },
  {
   "cell_type": "code",
   "execution_count": 19,
   "metadata": {
    "id": "TL_oNDdJvIz8"
   },
   "outputs": [],
   "source": [
    "def conv_block(in_channels, out_channels, pool=False):\n",
    "    layers = [nn.Conv2d(in_channels, out_channels, kernel_size=3, padding=1), \n",
    "              nn.BatchNorm2d(out_channels), \n",
    "              nn.ReLU(inplace=True)]\n",
    "    if pool: layers.append(nn.MaxPool2d(2))\n",
    "    return nn.Sequential(*layers)\n",
    "\n",
    "class ResNet9(nn.Module):\n",
    "    def __init__(self, in_channels, num_classes):\n",
    "        super().__init__()\n",
    "        \n",
    "        self.conv1 = conv_block(in_channels, 64)\n",
    "        self.conv2 = conv_block(64, 128, pool=True)   \n",
    "        self.res1 = nn.Sequential(conv_block(128, 128), conv_block(128, 128))\n",
    "        \n",
    "        self.conv3 = conv_block(128, 256, pool=True)\n",
    "        self.conv4 = conv_block(256, 512, pool=True)    \n",
    "        self.res2 = nn.Sequential(conv_block(512, 512), conv_block(512, 512))   \n",
    "        \n",
    "        self.classifier = nn.Sequential(nn.AdaptiveMaxPool2d(1),\n",
    "                                        nn.Flatten(),     \n",
    "                                        nn.Dropout(0.2),\n",
    "                                        nn.Linear(512, num_classes))    \n",
    "        \n",
    "    def forward(self, xb):\n",
    "        out = self.conv1(xb)\n",
    "        out = self.conv2(out)\n",
    "        out = self.res1(out) + out\n",
    "        out = self.conv3(out)\n",
    "        out = self.conv4(out)\n",
    "        out = self.res2(out) + out\n",
    "        out = self.classifier(out)\n",
    "        return out"
   ]
  },
  {
   "cell_type": "code",
   "execution_count": 62,
   "metadata": {},
   "outputs": [],
   "source": [
    "def model_generator(train_dataset):\n",
    "    net = torch.hub.load('pytorch/vision:v0.6.0', \"densenet121\", pretrained=True)\n",
    "    for param in net.parameters():\n",
    "        param.requires_grad = False\n",
    "    net.classifier = nn.Linear(1024, len(train_dataset.classes))\n",
    "\n",
    "    net.to(device)\n",
    "        \n",
    "    yield net, \"densenet121\"\n",
    "    \n",
    "    \n",
    "    net = torch.hub.load('pytorch/vision:v0.6.0', \"resnet18\", pretrained=True)\n",
    "    for param in net.parameters():\n",
    "        param.requires_grad = False\n",
    "    net.fc = nn.Linear(512, len(train_dataset.classes))\n",
    "\n",
    "    net.to(device)\n",
    "        \n",
    "    yield net, \"resnet18\"\n",
    "        \n",
    "    net = EfficientNet.from_pretrained('efficientnet-b0')\n",
    "    for param in net.parameters():\n",
    "        param.requires_grad = False\n",
    "    net._fc = nn.Linear(1280, len(train_dataset.classes))\n",
    "\n",
    "    net.to(device)\n",
    "        \n",
    "    yield net, \"efficientnet\""
   ]
  },
  {
   "cell_type": "code",
   "execution_count": 63,
   "metadata": {
    "id": "Mj6VJAT3vIz9"
   },
   "outputs": [],
   "source": [
    "# объявляем сеть\n",
    "#net = ResNet9(3, len(train_dataset.classes)).to(device)"
   ]
  },
  {
   "cell_type": "code",
   "execution_count": 64,
   "metadata": {},
   "outputs": [],
   "source": [
    "def train_model(model, loss_fn, optimizer, scheduler):\n",
    "    losses = []\n",
    "    model.train() \n",
    "    # итерируемся\n",
    "    for epoch in tqdm(range(10)):\n",
    "        for i, batch in enumerate(tqdm(train)):\n",
    "            # так получаем текущий батч\n",
    "            X_batch, y_batch = batch\n",
    "        \n",
    "            # обнуляем веса\n",
    "            optimizer.zero_grad()\n",
    "\n",
    "            with torch.set_grad_enabled(True):\n",
    "                # forward + backward + optimize\n",
    "                y_pred = model(X_batch.to(device))\n",
    "                loss = loss_fn(y_pred, y_batch.to(device))\n",
    "                loss.backward()\n",
    "                optimizer.step()\n",
    "            \n",
    "                # запомним качество\n",
    "                losses.append(loss.item())\n",
    "            \n",
    "        scheduler.step()\n",
    "    return model, losses"
   ]
  },
  {
   "cell_type": "code",
   "execution_count": 65,
   "metadata": {},
   "outputs": [],
   "source": [
    "def get_losses_graph(losses):\n",
    "    plt.figure(figsize=(10,7))\n",
    "\n",
    "    plt.plot(\n",
    "        np.arange(len(losses)), \n",
    "        losses)\n",
    "\n",
    "    plt.xlabel('Итерация')\n",
    "    plt.ylabel('Loss')\n",
    "    plt.show()"
   ]
  },
  {
   "cell_type": "code",
   "execution_count": 66,
   "metadata": {},
   "outputs": [],
   "source": [
    "def get_test_accuracy(test_dataset, model, is_print = True):\n",
    "    class_correct ={}\n",
    "    class_total = {}\n",
    "    cor_and_pred_class = []\n",
    "    err_images = []\n",
    "    classes = test_dataset.classes.copy()\n",
    "    classes.append('other')\n",
    "\n",
    "    for i in range(len(test_dataset.classes)):\n",
    "        class_correct.update({i:0.})\n",
    "        class_total.update({i:0.})\n",
    "\n",
    "    correct_all = 0\n",
    "    model.eval() \n",
    "\n",
    "    with torch.no_grad():\n",
    "        for batch in test:\n",
    "            images, labels = batch\n",
    "            y_pred = model(images.to(device))\n",
    "            _, predicted = torch.max(y_pred, 1)\n",
    "        \n",
    "            c = (predicted.cpu().detach() == labels)\n",
    "            for i in range(len(labels)):\n",
    "                label = labels[i]\n",
    "                class_correct[label.tolist()] += c[i].item()\n",
    "                correct_all += c[i].item()\n",
    "                class_total[label.tolist()] += 1\n",
    "                if not c[i]:\n",
    "                    err_images.append(images[i])\n",
    "                    cor_and_pred_class.append((classes[labels[i]], classes[predicted.cpu().detach()[i]]))\n",
    "    \n",
    "    if is_print:\n",
    "        for i in range(len(test_dataset.classes)):\n",
    "            print('Accuracy of %5s : %2f %%' % (\n",
    "                test_dataset.classes[i], 100 * class_correct[i] / class_total[i]))\n",
    "    \n",
    "        print('Accuracy of all: %2f %%' % (100 * correct_all / len(test_dataset)))\n",
    "        \n",
    "        for i in range(len(cor_and_pred_class)):\n",
    "            print('{:<30} {:<30}'.format(cor_and_pred_class[i][0], cor_and_pred_class[i][1]))\n",
    "        \n",
    "    return (100 * correct_all / len(test_dataset))"
   ]
  },
  {
   "cell_type": "code",
   "execution_count": 67,
   "metadata": {
    "id": "a5Bb0I7WvIz9"
   },
   "outputs": [],
   "source": [
    "# выбираем функцию потерь\n",
    "loss_fn = torch.nn.CrossEntropyLoss()\n",
    "\n",
    "# выбираем алгоритм оптимизации и learning_rate\n",
    "learning_rate = 0.002\n",
    "#optimizer = torch.optim.Adam(net.parameters(), lr=learning_rate)\n",
    "losses = []\n",
    "\n"
   ]
  },
  {
   "cell_type": "code",
   "execution_count": 68,
   "metadata": {},
   "outputs": [
    {
     "name": "stderr",
     "output_type": "stream",
     "text": [
      "Using cache found in /home/asbeloborodova/.cache/torch/hub/pytorch_vision_v0.6.0\n"
     ]
    },
    {
     "data": {
      "application/vnd.jupyter.widget-view+json": {
       "model_id": "dc401180069f4d30a47f5a104f212c05",
       "version_major": 2,
       "version_minor": 0
      },
      "text/plain": [
       "  0%|          | 0/10 [00:00<?, ?it/s]"
      ]
     },
     "metadata": {},
     "output_type": "display_data"
    },
    {
     "data": {
      "application/vnd.jupyter.widget-view+json": {
       "model_id": "f3fdd64f7d774eaa93552d47b07cd700",
       "version_major": 2,
       "version_minor": 0
      },
      "text/plain": [
       "  0%|          | 0/195 [00:00<?, ?it/s]"
      ]
     },
     "metadata": {},
     "output_type": "display_data"
    },
    {
     "data": {
      "application/vnd.jupyter.widget-view+json": {
       "model_id": "3d152e93c9ea4b7c97c7f12ac999d874",
       "version_major": 2,
       "version_minor": 0
      },
      "text/plain": [
       "  0%|          | 0/195 [00:00<?, ?it/s]"
      ]
     },
     "metadata": {},
     "output_type": "display_data"
    },
    {
     "data": {
      "application/vnd.jupyter.widget-view+json": {
       "model_id": "93f5c6d4dff0427483aa09b4efd5bc10",
       "version_major": 2,
       "version_minor": 0
      },
      "text/plain": [
       "  0%|          | 0/195 [00:00<?, ?it/s]"
      ]
     },
     "metadata": {},
     "output_type": "display_data"
    },
    {
     "data": {
      "application/vnd.jupyter.widget-view+json": {
       "model_id": "1166d3a438ee4a76a05c4d1df6ced415",
       "version_major": 2,
       "version_minor": 0
      },
      "text/plain": [
       "  0%|          | 0/195 [00:00<?, ?it/s]"
      ]
     },
     "metadata": {},
     "output_type": "display_data"
    },
    {
     "data": {
      "application/vnd.jupyter.widget-view+json": {
       "model_id": "526ebb650ce64aaabe1914330aba4ad8",
       "version_major": 2,
       "version_minor": 0
      },
      "text/plain": [
       "  0%|          | 0/195 [00:00<?, ?it/s]"
      ]
     },
     "metadata": {},
     "output_type": "display_data"
    },
    {
     "data": {
      "application/vnd.jupyter.widget-view+json": {
       "model_id": "39e074096cf641d099eb9b5e950eebe5",
       "version_major": 2,
       "version_minor": 0
      },
      "text/plain": [
       "  0%|          | 0/195 [00:00<?, ?it/s]"
      ]
     },
     "metadata": {},
     "output_type": "display_data"
    },
    {
     "data": {
      "application/vnd.jupyter.widget-view+json": {
       "model_id": "ceecd28bbb5f429bb98db70bb4ad3085",
       "version_major": 2,
       "version_minor": 0
      },
      "text/plain": [
       "  0%|          | 0/195 [00:00<?, ?it/s]"
      ]
     },
     "metadata": {},
     "output_type": "display_data"
    },
    {
     "data": {
      "application/vnd.jupyter.widget-view+json": {
       "model_id": "60caaf1033554c80b410d4db94acec92",
       "version_major": 2,
       "version_minor": 0
      },
      "text/plain": [
       "  0%|          | 0/195 [00:00<?, ?it/s]"
      ]
     },
     "metadata": {},
     "output_type": "display_data"
    },
    {
     "data": {
      "application/vnd.jupyter.widget-view+json": {
       "model_id": "cf388de21fac4c6eac21ccb9e0e1818e",
       "version_major": 2,
       "version_minor": 0
      },
      "text/plain": [
       "  0%|          | 0/195 [00:00<?, ?it/s]"
      ]
     },
     "metadata": {},
     "output_type": "display_data"
    },
    {
     "data": {
      "application/vnd.jupyter.widget-view+json": {
       "model_id": "515893cff6cd4879a3d863f9de7474f8",
       "version_major": 2,
       "version_minor": 0
      },
      "text/plain": [
       "  0%|          | 0/195 [00:00<?, ?it/s]"
      ]
     },
     "metadata": {},
     "output_type": "display_data"
    },
    {
     "name": "stdout",
     "output_type": "stream",
     "text": [
      "densenet121\n",
      "99.26004228329809\n"
     ]
    },
    {
     "name": "stderr",
     "output_type": "stream",
     "text": [
      "Using cache found in /home/asbeloborodova/.cache/torch/hub/pytorch_vision_v0.6.0\n"
     ]
    },
    {
     "data": {
      "application/vnd.jupyter.widget-view+json": {
       "model_id": "6ebe05ad483f491dbb60ff7d67080f99",
       "version_major": 2,
       "version_minor": 0
      },
      "text/plain": [
       "  0%|          | 0/10 [00:00<?, ?it/s]"
      ]
     },
     "metadata": {},
     "output_type": "display_data"
    },
    {
     "data": {
      "application/vnd.jupyter.widget-view+json": {
       "model_id": "f790efc10c0d4f1ab32cd804dd4fc4b7",
       "version_major": 2,
       "version_minor": 0
      },
      "text/plain": [
       "  0%|          | 0/195 [00:00<?, ?it/s]"
      ]
     },
     "metadata": {},
     "output_type": "display_data"
    },
    {
     "data": {
      "application/vnd.jupyter.widget-view+json": {
       "model_id": "d018dfaf5a2244928f4e232198d471ce",
       "version_major": 2,
       "version_minor": 0
      },
      "text/plain": [
       "  0%|          | 0/195 [00:00<?, ?it/s]"
      ]
     },
     "metadata": {},
     "output_type": "display_data"
    },
    {
     "data": {
      "application/vnd.jupyter.widget-view+json": {
       "model_id": "8950e9f382784767942d633c82a91c7e",
       "version_major": 2,
       "version_minor": 0
      },
      "text/plain": [
       "  0%|          | 0/195 [00:00<?, ?it/s]"
      ]
     },
     "metadata": {},
     "output_type": "display_data"
    },
    {
     "data": {
      "application/vnd.jupyter.widget-view+json": {
       "model_id": "2d5c4f8a2f304567a9014834386bbbd3",
       "version_major": 2,
       "version_minor": 0
      },
      "text/plain": [
       "  0%|          | 0/195 [00:00<?, ?it/s]"
      ]
     },
     "metadata": {},
     "output_type": "display_data"
    },
    {
     "data": {
      "application/vnd.jupyter.widget-view+json": {
       "model_id": "bf291a30bcd446259323050b821b0854",
       "version_major": 2,
       "version_minor": 0
      },
      "text/plain": [
       "  0%|          | 0/195 [00:00<?, ?it/s]"
      ]
     },
     "metadata": {},
     "output_type": "display_data"
    },
    {
     "data": {
      "application/vnd.jupyter.widget-view+json": {
       "model_id": "479bb8546eda4d5cb38ee3011dd7d0c4",
       "version_major": 2,
       "version_minor": 0
      },
      "text/plain": [
       "  0%|          | 0/195 [00:00<?, ?it/s]"
      ]
     },
     "metadata": {},
     "output_type": "display_data"
    },
    {
     "data": {
      "application/vnd.jupyter.widget-view+json": {
       "model_id": "6bef2b3d85c2408aa64074e006cd9a5c",
       "version_major": 2,
       "version_minor": 0
      },
      "text/plain": [
       "  0%|          | 0/195 [00:00<?, ?it/s]"
      ]
     },
     "metadata": {},
     "output_type": "display_data"
    },
    {
     "data": {
      "application/vnd.jupyter.widget-view+json": {
       "model_id": "c964097ee8084e4eac45d9978a5de4c6",
       "version_major": 2,
       "version_minor": 0
      },
      "text/plain": [
       "  0%|          | 0/195 [00:00<?, ?it/s]"
      ]
     },
     "metadata": {},
     "output_type": "display_data"
    },
    {
     "data": {
      "application/vnd.jupyter.widget-view+json": {
       "model_id": "8cbdf06ee6984cf58c64c14201273e0e",
       "version_major": 2,
       "version_minor": 0
      },
      "text/plain": [
       "  0%|          | 0/195 [00:00<?, ?it/s]"
      ]
     },
     "metadata": {},
     "output_type": "display_data"
    },
    {
     "data": {
      "application/vnd.jupyter.widget-view+json": {
       "model_id": "c4fd035f0d4b4a1c834445e234a6cbb9",
       "version_major": 2,
       "version_minor": 0
      },
      "text/plain": [
       "  0%|          | 0/195 [00:00<?, ?it/s]"
      ]
     },
     "metadata": {},
     "output_type": "display_data"
    },
    {
     "name": "stdout",
     "output_type": "stream",
     "text": [
      "resnet18\n",
      "98.62579281183932\n",
      "Loaded pretrained weights for efficientnet-b0\n"
     ]
    },
    {
     "data": {
      "application/vnd.jupyter.widget-view+json": {
       "model_id": "4b79d5d57d364dddbaeea152ed576d4f",
       "version_major": 2,
       "version_minor": 0
      },
      "text/plain": [
       "  0%|          | 0/10 [00:00<?, ?it/s]"
      ]
     },
     "metadata": {},
     "output_type": "display_data"
    },
    {
     "data": {
      "application/vnd.jupyter.widget-view+json": {
       "model_id": "cc477d21f4e2486887d71803cfad8de4",
       "version_major": 2,
       "version_minor": 0
      },
      "text/plain": [
       "  0%|          | 0/195 [00:00<?, ?it/s]"
      ]
     },
     "metadata": {},
     "output_type": "display_data"
    },
    {
     "data": {
      "application/vnd.jupyter.widget-view+json": {
       "model_id": "fa9fa750b1104346b2f9c50d2ed1623b",
       "version_major": 2,
       "version_minor": 0
      },
      "text/plain": [
       "  0%|          | 0/195 [00:00<?, ?it/s]"
      ]
     },
     "metadata": {},
     "output_type": "display_data"
    },
    {
     "data": {
      "application/vnd.jupyter.widget-view+json": {
       "model_id": "9d82188596e74084ba52b8ef32b3a1c5",
       "version_major": 2,
       "version_minor": 0
      },
      "text/plain": [
       "  0%|          | 0/195 [00:00<?, ?it/s]"
      ]
     },
     "metadata": {},
     "output_type": "display_data"
    },
    {
     "data": {
      "application/vnd.jupyter.widget-view+json": {
       "model_id": "300aae338e8342388ea849f37b1e1aa4",
       "version_major": 2,
       "version_minor": 0
      },
      "text/plain": [
       "  0%|          | 0/195 [00:00<?, ?it/s]"
      ]
     },
     "metadata": {},
     "output_type": "display_data"
    },
    {
     "data": {
      "application/vnd.jupyter.widget-view+json": {
       "model_id": "b6fabb1817784e1e824ca8b8f4698e5c",
       "version_major": 2,
       "version_minor": 0
      },
      "text/plain": [
       "  0%|          | 0/195 [00:00<?, ?it/s]"
      ]
     },
     "metadata": {},
     "output_type": "display_data"
    },
    {
     "data": {
      "application/vnd.jupyter.widget-view+json": {
       "model_id": "be7470f5cdcf4582809d3e09363d5f58",
       "version_major": 2,
       "version_minor": 0
      },
      "text/plain": [
       "  0%|          | 0/195 [00:00<?, ?it/s]"
      ]
     },
     "metadata": {},
     "output_type": "display_data"
    },
    {
     "data": {
      "application/vnd.jupyter.widget-view+json": {
       "model_id": "346e85eebf774321a5b3b35c66e63b3a",
       "version_major": 2,
       "version_minor": 0
      },
      "text/plain": [
       "  0%|          | 0/195 [00:00<?, ?it/s]"
      ]
     },
     "metadata": {},
     "output_type": "display_data"
    },
    {
     "data": {
      "application/vnd.jupyter.widget-view+json": {
       "model_id": "179758f14d01471195960132dac9ef2b",
       "version_major": 2,
       "version_minor": 0
      },
      "text/plain": [
       "  0%|          | 0/195 [00:00<?, ?it/s]"
      ]
     },
     "metadata": {},
     "output_type": "display_data"
    },
    {
     "data": {
      "application/vnd.jupyter.widget-view+json": {
       "model_id": "c0bd3edfc49a4d2ea1e10ed55c5e20b1",
       "version_major": 2,
       "version_minor": 0
      },
      "text/plain": [
       "  0%|          | 0/195 [00:00<?, ?it/s]"
      ]
     },
     "metadata": {},
     "output_type": "display_data"
    },
    {
     "data": {
      "application/vnd.jupyter.widget-view+json": {
       "model_id": "326e100ff6e2490f97f17d361d53315c",
       "version_major": 2,
       "version_minor": 0
      },
      "text/plain": [
       "  0%|          | 0/195 [00:00<?, ?it/s]"
      ]
     },
     "metadata": {},
     "output_type": "display_data"
    },
    {
     "name": "stdout",
     "output_type": "stream",
     "text": [
      "efficientnet\n",
      "98.30866807610994\n"
     ]
    }
   ],
   "source": [
    "for net, discr in model_generator(train_dataset):\n",
    "    learning_rate = 0.002\n",
    "    optimizer = torch.optim.Adam(net.parameters(), lr=learning_rate)\n",
    "    lr_scheduler_step_size = 10\n",
    "    lr_scheduler_gamma = 0.9\n",
    "    scheduler = torch.optim.lr_scheduler.StepLR(optimizer, \n",
    "                                            step_size=lr_scheduler_step_size, \n",
    "                                            gamma=lr_scheduler_gamma)\n",
    "    net, losses = train_model(net, loss_fn, optimizer, scheduler)\n",
    "    print(discr)\n",
    "    print(get_test_accuracy(test_dataset, net, False))"
   ]
  },
  {
   "cell_type": "markdown",
   "metadata": {
    "colab": {
     "base_uri": "https://localhost:8080/",
     "height": 81,
     "referenced_widgets": [
      "eda7078da7bf4ea78c2571aa83484319",
      "250c54343f8c4a3782e18702fed4b607",
      "2fa3cff2b4b04bddabab770157fb2d62",
      "4b5bc5b57b424942ad66ef732651ea47",
      "0a60cc3ed9ca47e9bfe789219ab177f4",
      "dba533d3492a444aa698b00bb11e1666",
      "69539a9687b6408e9384b46783d6dcb3",
      "9f125d84db3c491997f66b148f0315d7",
      "90979c7ebcbe49b3bfb25c8b58a48200",
      "1eaeed19b1464fb98902e187ba98fd51",
      "06d528336750417fa96dcecb06d71c93",
      "b55f8015d70b43bda6930056fde6746f",
      "127fececb54e4f8798222db54a69e780",
      "ce385aa11ce84a3bbc659d2f6269e1d7",
      "7f442604681b41da9b520611ffac658b",
      "5257706e6e9c4a73ae44507a4bb8dbd1"
     ]
    },
    "id": "zvhhtLEnvIz9",
    "outputId": "fe17c3e4-c7ce-49b1-87a7-c1df3c007d39",
    "scrolled": false
   },
   "source": [
    "net.train() \n",
    "# итерируемся\n",
    "for epoch in tqdm(range(10)):\n",
    "    for i, batch in enumerate(tqdm(train)):\n",
    "        # так получаем текущий батч\n",
    "        X_batch, y_batch = batch\n",
    "        \n",
    "        # обнуляем веса\n",
    "        optimizer.zero_grad()\n",
    "\n",
    "        with torch.set_grad_enabled(True):\n",
    "            # forward + backward + optimize\n",
    "            y_pred = net(X_batch.to(device))\n",
    "            loss = loss_fn(y_pred, y_batch.to(device))\n",
    "            loss.backward()\n",
    "            optimizer.step()\n",
    "            \n",
    "            # запомним качество\n",
    "            losses.append(loss.item())\n",
    "            \n",
    "    scheduler.step()"
   ]
  },
  {
   "cell_type": "markdown",
   "metadata": {
    "id": "0RRzZjI36wd1"
   },
   "source": [
    "# выведем график значения лосса в зависимости от итерации\n",
    "\n",
    "plt.figure(figsize=(10,7))\n",
    "\n",
    "plt.plot(\n",
    "    np.arange(len(losses)), \n",
    "    losses)\n",
    "\n",
    "plt.xlabel('Итерация')\n",
    "plt.ylabel('Loss')\n",
    "plt.show()"
   ]
  },
  {
   "cell_type": "markdown",
   "metadata": {
    "id": "6KsuIJntvIz9"
   },
   "source": [
    "class_correct ={}\n",
    "class_total = {}\n",
    "cor_and_pred_class = []\n",
    "err_images = []\n",
    "classes = test_dataset.classes.copy()\n",
    "classes.append('other')\n",
    "\n",
    "for i in range(len(test_dataset.classes)):\n",
    "    class_correct.update({i:0.})\n",
    "    class_total.update({i:0.})\n",
    "\n",
    "correct_all = 0\n",
    "net.eval() \n",
    "\n",
    "with torch.no_grad():\n",
    "    for batch in test:\n",
    "        images, labels = batch\n",
    "        y_pred = net(images.to(device))\n",
    "        _, predicted = torch.max(y_pred, 1)\n",
    "        \n",
    "        c = (predicted.cpu().detach() == labels)\n",
    "        for i in range(len(labels)):\n",
    "            label = labels[i]\n",
    "            class_correct[label.tolist()] += c[i].item()\n",
    "            correct_all += c[i].item()\n",
    "            class_total[label.tolist()] += 1\n",
    "            if not c[i]:\n",
    "                err_images.append(images[i])\n",
    "                cor_and_pred_class.append((classes[labels[i]], classes[predicted.cpu().detach()[i]]))"
   ]
  },
  {
   "cell_type": "markdown",
   "metadata": {
    "id": "9-a54t4qIWNM"
   },
   "source": [
    "for i in range(len(test_dataset.classes)):\n",
    "    print('Accuracy of %5s : %2f %%' % (\n",
    "        test_dataset.classes[i], 100 * class_correct[i] / class_total[i]))\n",
    "    \n",
    "print('Accuracy of all: %2f %%' % (100 * correct_all / len(test_dataset)))"
   ]
  },
  {
   "cell_type": "markdown",
   "metadata": {
    "scrolled": false
   },
   "source": [
    "for i in range(len(cor_and_pred_class)):\n",
    "    print('{:<30} {:<30}'.format(cor_and_pred_class[i][0], cor_and_pred_class[i][1]))"
   ]
  },
  {
   "cell_type": "markdown",
   "metadata": {},
   "source": [
    "## Удалим сгенерированные картинки"
   ]
  },
  {
   "cell_type": "code",
   "execution_count": null,
   "metadata": {},
   "outputs": [],
   "source": [
    "def del_aug(data_dir):\n",
    "    classes = os.listdir(data_dir)\n",
    "    for cur_class in classes:\n",
    "        for file in os.listdir(data_train_dir + '/' + cur_class):\n",
    "            if file.endswith('jpeg') and file.split('_')[-2].isdigit():\n",
    "                os.remove(data_dir + '/' + cur_class + '/' + file)"
   ]
  },
  {
   "cell_type": "code",
   "execution_count": null,
   "metadata": {},
   "outputs": [],
   "source": [
    "#del_aug(data_train_dir)"
   ]
  },
  {
   "cell_type": "code",
   "execution_count": null,
   "metadata": {},
   "outputs": [],
   "source": []
  }
 ],
 "metadata": {
  "colab": {
   "collapsed_sections": [],
   "name": "Untitled.ipynb",
   "provenance": [],
   "toc_visible": true
  },
  "kernelspec": {
   "display_name": "Python 3",
   "language": "python",
   "name": "python3"
  },
  "language_info": {
   "codemirror_mode": {
    "name": "ipython",
    "version": 3
   },
   "file_extension": ".py",
   "mimetype": "text/x-python",
   "name": "python",
   "nbconvert_exporter": "python",
   "pygments_lexer": "ipython3",
   "version": "3.8.5"
  },
  "widgets": {
   "application/vnd.jupyter.widget-state+json": {
    "06d528336750417fa96dcecb06d71c93": {
     "model_module": "@jupyter-widgets/controls",
     "model_name": "FloatProgressModel",
     "state": {
      "_dom_classes": [],
      "_model_module": "@jupyter-widgets/controls",
      "_model_module_version": "1.5.0",
      "_model_name": "FloatProgressModel",
      "_view_count": null,
      "_view_module": "@jupyter-widgets/controls",
      "_view_module_version": "1.5.0",
      "_view_name": "ProgressView",
      "bar_style": "",
      "description": "  2%",
      "description_tooltip": null,
      "layout": "IPY_MODEL_ce385aa11ce84a3bbc659d2f6269e1d7",
      "max": 61,
      "min": 0,
      "orientation": "horizontal",
      "style": "IPY_MODEL_127fececb54e4f8798222db54a69e780",
      "value": 1
     }
    },
    "0a60cc3ed9ca47e9bfe789219ab177f4": {
     "model_module": "@jupyter-widgets/controls",
     "model_name": "ProgressStyleModel",
     "state": {
      "_model_module": "@jupyter-widgets/controls",
      "_model_module_version": "1.5.0",
      "_model_name": "ProgressStyleModel",
      "_view_count": null,
      "_view_module": "@jupyter-widgets/base",
      "_view_module_version": "1.2.0",
      "_view_name": "StyleView",
      "bar_color": null,
      "description_width": "initial"
     }
    },
    "127fececb54e4f8798222db54a69e780": {
     "model_module": "@jupyter-widgets/controls",
     "model_name": "ProgressStyleModel",
     "state": {
      "_model_module": "@jupyter-widgets/controls",
      "_model_module_version": "1.5.0",
      "_model_name": "ProgressStyleModel",
      "_view_count": null,
      "_view_module": "@jupyter-widgets/base",
      "_view_module_version": "1.2.0",
      "_view_name": "StyleView",
      "bar_color": null,
      "description_width": "initial"
     }
    },
    "1eaeed19b1464fb98902e187ba98fd51": {
     "model_module": "@jupyter-widgets/base",
     "model_name": "LayoutModel",
     "state": {
      "_model_module": "@jupyter-widgets/base",
      "_model_module_version": "1.2.0",
      "_model_name": "LayoutModel",
      "_view_count": null,
      "_view_module": "@jupyter-widgets/base",
      "_view_module_version": "1.2.0",
      "_view_name": "LayoutView",
      "align_content": null,
      "align_items": null,
      "align_self": null,
      "border": null,
      "bottom": null,
      "display": null,
      "flex": null,
      "flex_flow": null,
      "grid_area": null,
      "grid_auto_columns": null,
      "grid_auto_flow": null,
      "grid_auto_rows": null,
      "grid_column": null,
      "grid_gap": null,
      "grid_row": null,
      "grid_template_areas": null,
      "grid_template_columns": null,
      "grid_template_rows": null,
      "height": null,
      "justify_content": null,
      "justify_items": null,
      "left": null,
      "margin": null,
      "max_height": null,
      "max_width": null,
      "min_height": null,
      "min_width": null,
      "object_fit": null,
      "object_position": null,
      "order": null,
      "overflow": null,
      "overflow_x": null,
      "overflow_y": null,
      "padding": null,
      "right": null,
      "top": null,
      "visibility": null,
      "width": null
     }
    },
    "250c54343f8c4a3782e18702fed4b607": {
     "model_module": "@jupyter-widgets/base",
     "model_name": "LayoutModel",
     "state": {
      "_model_module": "@jupyter-widgets/base",
      "_model_module_version": "1.2.0",
      "_model_name": "LayoutModel",
      "_view_count": null,
      "_view_module": "@jupyter-widgets/base",
      "_view_module_version": "1.2.0",
      "_view_name": "LayoutView",
      "align_content": null,
      "align_items": null,
      "align_self": null,
      "border": null,
      "bottom": null,
      "display": null,
      "flex": null,
      "flex_flow": null,
      "grid_area": null,
      "grid_auto_columns": null,
      "grid_auto_flow": null,
      "grid_auto_rows": null,
      "grid_column": null,
      "grid_gap": null,
      "grid_row": null,
      "grid_template_areas": null,
      "grid_template_columns": null,
      "grid_template_rows": null,
      "height": null,
      "justify_content": null,
      "justify_items": null,
      "left": null,
      "margin": null,
      "max_height": null,
      "max_width": null,
      "min_height": null,
      "min_width": null,
      "object_fit": null,
      "object_position": null,
      "order": null,
      "overflow": null,
      "overflow_x": null,
      "overflow_y": null,
      "padding": null,
      "right": null,
      "top": null,
      "visibility": null,
      "width": null
     }
    },
    "2fa3cff2b4b04bddabab770157fb2d62": {
     "model_module": "@jupyter-widgets/controls",
     "model_name": "FloatProgressModel",
     "state": {
      "_dom_classes": [],
      "_model_module": "@jupyter-widgets/controls",
      "_model_module_version": "1.5.0",
      "_model_name": "FloatProgressModel",
      "_view_count": null,
      "_view_module": "@jupyter-widgets/controls",
      "_view_module_version": "1.5.0",
      "_view_name": "ProgressView",
      "bar_style": "",
      "description": "  0%",
      "description_tooltip": null,
      "layout": "IPY_MODEL_dba533d3492a444aa698b00bb11e1666",
      "max": 10,
      "min": 0,
      "orientation": "horizontal",
      "style": "IPY_MODEL_0a60cc3ed9ca47e9bfe789219ab177f4",
      "value": 0
     }
    },
    "4b5bc5b57b424942ad66ef732651ea47": {
     "model_module": "@jupyter-widgets/controls",
     "model_name": "HTMLModel",
     "state": {
      "_dom_classes": [],
      "_model_module": "@jupyter-widgets/controls",
      "_model_module_version": "1.5.0",
      "_model_name": "HTMLModel",
      "_view_count": null,
      "_view_module": "@jupyter-widgets/controls",
      "_view_module_version": "1.5.0",
      "_view_name": "HTMLView",
      "description": "",
      "description_tooltip": null,
      "layout": "IPY_MODEL_9f125d84db3c491997f66b148f0315d7",
      "placeholder": "​",
      "style": "IPY_MODEL_69539a9687b6408e9384b46783d6dcb3",
      "value": " 0/10 [00:00&lt;?, ?it/s]"
     }
    },
    "5257706e6e9c4a73ae44507a4bb8dbd1": {
     "model_module": "@jupyter-widgets/base",
     "model_name": "LayoutModel",
     "state": {
      "_model_module": "@jupyter-widgets/base",
      "_model_module_version": "1.2.0",
      "_model_name": "LayoutModel",
      "_view_count": null,
      "_view_module": "@jupyter-widgets/base",
      "_view_module_version": "1.2.0",
      "_view_name": "LayoutView",
      "align_content": null,
      "align_items": null,
      "align_self": null,
      "border": null,
      "bottom": null,
      "display": null,
      "flex": null,
      "flex_flow": null,
      "grid_area": null,
      "grid_auto_columns": null,
      "grid_auto_flow": null,
      "grid_auto_rows": null,
      "grid_column": null,
      "grid_gap": null,
      "grid_row": null,
      "grid_template_areas": null,
      "grid_template_columns": null,
      "grid_template_rows": null,
      "height": null,
      "justify_content": null,
      "justify_items": null,
      "left": null,
      "margin": null,
      "max_height": null,
      "max_width": null,
      "min_height": null,
      "min_width": null,
      "object_fit": null,
      "object_position": null,
      "order": null,
      "overflow": null,
      "overflow_x": null,
      "overflow_y": null,
      "padding": null,
      "right": null,
      "top": null,
      "visibility": null,
      "width": null
     }
    },
    "69539a9687b6408e9384b46783d6dcb3": {
     "model_module": "@jupyter-widgets/controls",
     "model_name": "DescriptionStyleModel",
     "state": {
      "_model_module": "@jupyter-widgets/controls",
      "_model_module_version": "1.5.0",
      "_model_name": "DescriptionStyleModel",
      "_view_count": null,
      "_view_module": "@jupyter-widgets/base",
      "_view_module_version": "1.2.0",
      "_view_name": "StyleView",
      "description_width": ""
     }
    },
    "7f442604681b41da9b520611ffac658b": {
     "model_module": "@jupyter-widgets/controls",
     "model_name": "DescriptionStyleModel",
     "state": {
      "_model_module": "@jupyter-widgets/controls",
      "_model_module_version": "1.5.0",
      "_model_name": "DescriptionStyleModel",
      "_view_count": null,
      "_view_module": "@jupyter-widgets/base",
      "_view_module_version": "1.2.0",
      "_view_name": "StyleView",
      "description_width": ""
     }
    },
    "90979c7ebcbe49b3bfb25c8b58a48200": {
     "model_module": "@jupyter-widgets/controls",
     "model_name": "HBoxModel",
     "state": {
      "_dom_classes": [],
      "_model_module": "@jupyter-widgets/controls",
      "_model_module_version": "1.5.0",
      "_model_name": "HBoxModel",
      "_view_count": null,
      "_view_module": "@jupyter-widgets/controls",
      "_view_module_version": "1.5.0",
      "_view_name": "HBoxView",
      "box_style": "",
      "children": [
       "IPY_MODEL_06d528336750417fa96dcecb06d71c93",
       "IPY_MODEL_b55f8015d70b43bda6930056fde6746f"
      ],
      "layout": "IPY_MODEL_1eaeed19b1464fb98902e187ba98fd51"
     }
    },
    "9f125d84db3c491997f66b148f0315d7": {
     "model_module": "@jupyter-widgets/base",
     "model_name": "LayoutModel",
     "state": {
      "_model_module": "@jupyter-widgets/base",
      "_model_module_version": "1.2.0",
      "_model_name": "LayoutModel",
      "_view_count": null,
      "_view_module": "@jupyter-widgets/base",
      "_view_module_version": "1.2.0",
      "_view_name": "LayoutView",
      "align_content": null,
      "align_items": null,
      "align_self": null,
      "border": null,
      "bottom": null,
      "display": null,
      "flex": null,
      "flex_flow": null,
      "grid_area": null,
      "grid_auto_columns": null,
      "grid_auto_flow": null,
      "grid_auto_rows": null,
      "grid_column": null,
      "grid_gap": null,
      "grid_row": null,
      "grid_template_areas": null,
      "grid_template_columns": null,
      "grid_template_rows": null,
      "height": null,
      "justify_content": null,
      "justify_items": null,
      "left": null,
      "margin": null,
      "max_height": null,
      "max_width": null,
      "min_height": null,
      "min_width": null,
      "object_fit": null,
      "object_position": null,
      "order": null,
      "overflow": null,
      "overflow_x": null,
      "overflow_y": null,
      "padding": null,
      "right": null,
      "top": null,
      "visibility": null,
      "width": null
     }
    },
    "b55f8015d70b43bda6930056fde6746f": {
     "model_module": "@jupyter-widgets/controls",
     "model_name": "HTMLModel",
     "state": {
      "_dom_classes": [],
      "_model_module": "@jupyter-widgets/controls",
      "_model_module_version": "1.5.0",
      "_model_name": "HTMLModel",
      "_view_count": null,
      "_view_module": "@jupyter-widgets/controls",
      "_view_module_version": "1.5.0",
      "_view_name": "HTMLView",
      "description": "",
      "description_tooltip": null,
      "layout": "IPY_MODEL_5257706e6e9c4a73ae44507a4bb8dbd1",
      "placeholder": "​",
      "style": "IPY_MODEL_7f442604681b41da9b520611ffac658b",
      "value": " 1/61 [00:14&lt;14:04, 14.07s/it]"
     }
    },
    "ce385aa11ce84a3bbc659d2f6269e1d7": {
     "model_module": "@jupyter-widgets/base",
     "model_name": "LayoutModel",
     "state": {
      "_model_module": "@jupyter-widgets/base",
      "_model_module_version": "1.2.0",
      "_model_name": "LayoutModel",
      "_view_count": null,
      "_view_module": "@jupyter-widgets/base",
      "_view_module_version": "1.2.0",
      "_view_name": "LayoutView",
      "align_content": null,
      "align_items": null,
      "align_self": null,
      "border": null,
      "bottom": null,
      "display": null,
      "flex": null,
      "flex_flow": null,
      "grid_area": null,
      "grid_auto_columns": null,
      "grid_auto_flow": null,
      "grid_auto_rows": null,
      "grid_column": null,
      "grid_gap": null,
      "grid_row": null,
      "grid_template_areas": null,
      "grid_template_columns": null,
      "grid_template_rows": null,
      "height": null,
      "justify_content": null,
      "justify_items": null,
      "left": null,
      "margin": null,
      "max_height": null,
      "max_width": null,
      "min_height": null,
      "min_width": null,
      "object_fit": null,
      "object_position": null,
      "order": null,
      "overflow": null,
      "overflow_x": null,
      "overflow_y": null,
      "padding": null,
      "right": null,
      "top": null,
      "visibility": null,
      "width": null
     }
    },
    "dba533d3492a444aa698b00bb11e1666": {
     "model_module": "@jupyter-widgets/base",
     "model_name": "LayoutModel",
     "state": {
      "_model_module": "@jupyter-widgets/base",
      "_model_module_version": "1.2.0",
      "_model_name": "LayoutModel",
      "_view_count": null,
      "_view_module": "@jupyter-widgets/base",
      "_view_module_version": "1.2.0",
      "_view_name": "LayoutView",
      "align_content": null,
      "align_items": null,
      "align_self": null,
      "border": null,
      "bottom": null,
      "display": null,
      "flex": null,
      "flex_flow": null,
      "grid_area": null,
      "grid_auto_columns": null,
      "grid_auto_flow": null,
      "grid_auto_rows": null,
      "grid_column": null,
      "grid_gap": null,
      "grid_row": null,
      "grid_template_areas": null,
      "grid_template_columns": null,
      "grid_template_rows": null,
      "height": null,
      "justify_content": null,
      "justify_items": null,
      "left": null,
      "margin": null,
      "max_height": null,
      "max_width": null,
      "min_height": null,
      "min_width": null,
      "object_fit": null,
      "object_position": null,
      "order": null,
      "overflow": null,
      "overflow_x": null,
      "overflow_y": null,
      "padding": null,
      "right": null,
      "top": null,
      "visibility": null,
      "width": null
     }
    },
    "eda7078da7bf4ea78c2571aa83484319": {
     "model_module": "@jupyter-widgets/controls",
     "model_name": "HBoxModel",
     "state": {
      "_dom_classes": [],
      "_model_module": "@jupyter-widgets/controls",
      "_model_module_version": "1.5.0",
      "_model_name": "HBoxModel",
      "_view_count": null,
      "_view_module": "@jupyter-widgets/controls",
      "_view_module_version": "1.5.0",
      "_view_name": "HBoxView",
      "box_style": "",
      "children": [
       "IPY_MODEL_2fa3cff2b4b04bddabab770157fb2d62",
       "IPY_MODEL_4b5bc5b57b424942ad66ef732651ea47"
      ],
      "layout": "IPY_MODEL_250c54343f8c4a3782e18702fed4b607"
     }
    }
   }
  }
 },
 "nbformat": 4,
 "nbformat_minor": 1
}
